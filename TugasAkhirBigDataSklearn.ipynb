{
  "nbformat": 4,
  "nbformat_minor": 0,
  "metadata": {
    "colab": {
      "provenance": []
    },
    "kernelspec": {
      "name": "python3",
      "display_name": "Python 3"
    },
    "language_info": {
      "name": "python"
    }
  },
  "cells": [
    {
      "cell_type": "markdown",
      "source": [
        "#LOAD DATASET"
      ],
      "metadata": {
        "id": "VMb0OFhBn_SH"
      }
    },
    {
      "cell_type": "code",
      "execution_count": 14,
      "metadata": {
        "id": "0Kj0jkRPaXHq",
        "colab": {
          "base_uri": "https://localhost:8080/"
        },
        "outputId": "6443d418-1a76-4eda-f581-309bc4782100"
      },
      "outputs": [
        {
          "output_type": "stream",
          "name": "stdout",
          "text": [
            "Warning: Looks like you're using an outdated `kagglehub` version (installed: 0.3.5), please consider upgrading to the latest version (0.3.6).\n",
            "Path to dataset files: /root/.cache/kagglehub/datasets/jakewright/house-price-data/versions/4\n"
          ]
        }
      ],
      "source": [
        "import kagglehub\n",
        "\n",
        "# Download latest version\n",
        "path = kagglehub.dataset_download(\"jakewright/house-price-data\")\n",
        "\n",
        "print(\"Path to dataset files:\", path)"
      ]
    },
    {
      "cell_type": "code",
      "source": [
        "import pandas as pd\n",
        "\n",
        "# Ganti 'path/to/your/dataset.csv' dengan path ke file dataset kamu\n",
        "df = pd.read_csv('/root/.cache/kagglehub/datasets/jakewright/house-price-data/versions/4/kaggle_london_house_price_data.csv')"
      ],
      "metadata": {
        "id": "8IBywVqae9cy"
      },
      "execution_count": 15,
      "outputs": []
    },
    {
      "cell_type": "code",
      "source": [
        "num_rows = len(df)\n",
        "print(f\"Jumlah baris dataset: {num_rows}\")"
      ],
      "metadata": {
        "colab": {
          "base_uri": "https://localhost:8080/"
        },
        "id": "SwnUwJuYnqbk",
        "outputId": "4cb8d5bf-b472-4054-8ff5-73c84559412c"
      },
      "execution_count": 16,
      "outputs": [
        {
          "output_type": "stream",
          "name": "stdout",
          "text": [
            "Jumlah baris dataset: 282872\n"
          ]
        }
      ]
    },
    {
      "cell_type": "code",
      "source": [
        "df.isnull().sum()"
      ],
      "metadata": {
        "colab": {
          "base_uri": "https://localhost:8080/",
          "height": 962
        },
        "id": "WtGjkW8Cnt48",
        "outputId": "9899a137-af65-4d0c-9c08-6241f33e4ba6"
      },
      "execution_count": 17,
      "outputs": [
        {
          "output_type": "execute_result",
          "data": {
            "text/plain": [
              "fullAddress                                       0\n",
              "postcode                                          0\n",
              "country                                           0\n",
              "outcode                                           0\n",
              "latitude                                          0\n",
              "longitude                                         0\n",
              "bathrooms                                     51103\n",
              "bedrooms                                      26218\n",
              "floorAreaSqM                                  15812\n",
              "livingRooms                                   39135\n",
              "tenure                                         6311\n",
              "propertyType                                    675\n",
              "currentEnergyRating                           58311\n",
              "rentEstimate_lowerPrice                        1222\n",
              "rentEstimate_currentPrice                      1222\n",
              "rentEstimate_upperPrice                        1222\n",
              "saleEstimate_lowerPrice                         549\n",
              "saleEstimate_currentPrice                       549\n",
              "saleEstimate_upperPrice                         549\n",
              "saleEstimate_confidenceLevel                    549\n",
              "saleEstimate_ingestedAt                         549\n",
              "saleEstimate_valueChange.numericChange          549\n",
              "saleEstimate_valueChange.percentageChange       549\n",
              "saleEstimate_valueChange.saleDate               549\n",
              "history_date                                      0\n",
              "history_price                                     0\n",
              "history_percentageChange                     122213\n",
              "history_numericChange                        122213\n",
              "dtype: int64"
            ],
            "text/html": [
              "<div>\n",
              "<style scoped>\n",
              "    .dataframe tbody tr th:only-of-type {\n",
              "        vertical-align: middle;\n",
              "    }\n",
              "\n",
              "    .dataframe tbody tr th {\n",
              "        vertical-align: top;\n",
              "    }\n",
              "\n",
              "    .dataframe thead th {\n",
              "        text-align: right;\n",
              "    }\n",
              "</style>\n",
              "<table border=\"1\" class=\"dataframe\">\n",
              "  <thead>\n",
              "    <tr style=\"text-align: right;\">\n",
              "      <th></th>\n",
              "      <th>0</th>\n",
              "    </tr>\n",
              "  </thead>\n",
              "  <tbody>\n",
              "    <tr>\n",
              "      <th>fullAddress</th>\n",
              "      <td>0</td>\n",
              "    </tr>\n",
              "    <tr>\n",
              "      <th>postcode</th>\n",
              "      <td>0</td>\n",
              "    </tr>\n",
              "    <tr>\n",
              "      <th>country</th>\n",
              "      <td>0</td>\n",
              "    </tr>\n",
              "    <tr>\n",
              "      <th>outcode</th>\n",
              "      <td>0</td>\n",
              "    </tr>\n",
              "    <tr>\n",
              "      <th>latitude</th>\n",
              "      <td>0</td>\n",
              "    </tr>\n",
              "    <tr>\n",
              "      <th>longitude</th>\n",
              "      <td>0</td>\n",
              "    </tr>\n",
              "    <tr>\n",
              "      <th>bathrooms</th>\n",
              "      <td>51103</td>\n",
              "    </tr>\n",
              "    <tr>\n",
              "      <th>bedrooms</th>\n",
              "      <td>26218</td>\n",
              "    </tr>\n",
              "    <tr>\n",
              "      <th>floorAreaSqM</th>\n",
              "      <td>15812</td>\n",
              "    </tr>\n",
              "    <tr>\n",
              "      <th>livingRooms</th>\n",
              "      <td>39135</td>\n",
              "    </tr>\n",
              "    <tr>\n",
              "      <th>tenure</th>\n",
              "      <td>6311</td>\n",
              "    </tr>\n",
              "    <tr>\n",
              "      <th>propertyType</th>\n",
              "      <td>675</td>\n",
              "    </tr>\n",
              "    <tr>\n",
              "      <th>currentEnergyRating</th>\n",
              "      <td>58311</td>\n",
              "    </tr>\n",
              "    <tr>\n",
              "      <th>rentEstimate_lowerPrice</th>\n",
              "      <td>1222</td>\n",
              "    </tr>\n",
              "    <tr>\n",
              "      <th>rentEstimate_currentPrice</th>\n",
              "      <td>1222</td>\n",
              "    </tr>\n",
              "    <tr>\n",
              "      <th>rentEstimate_upperPrice</th>\n",
              "      <td>1222</td>\n",
              "    </tr>\n",
              "    <tr>\n",
              "      <th>saleEstimate_lowerPrice</th>\n",
              "      <td>549</td>\n",
              "    </tr>\n",
              "    <tr>\n",
              "      <th>saleEstimate_currentPrice</th>\n",
              "      <td>549</td>\n",
              "    </tr>\n",
              "    <tr>\n",
              "      <th>saleEstimate_upperPrice</th>\n",
              "      <td>549</td>\n",
              "    </tr>\n",
              "    <tr>\n",
              "      <th>saleEstimate_confidenceLevel</th>\n",
              "      <td>549</td>\n",
              "    </tr>\n",
              "    <tr>\n",
              "      <th>saleEstimate_ingestedAt</th>\n",
              "      <td>549</td>\n",
              "    </tr>\n",
              "    <tr>\n",
              "      <th>saleEstimate_valueChange.numericChange</th>\n",
              "      <td>549</td>\n",
              "    </tr>\n",
              "    <tr>\n",
              "      <th>saleEstimate_valueChange.percentageChange</th>\n",
              "      <td>549</td>\n",
              "    </tr>\n",
              "    <tr>\n",
              "      <th>saleEstimate_valueChange.saleDate</th>\n",
              "      <td>549</td>\n",
              "    </tr>\n",
              "    <tr>\n",
              "      <th>history_date</th>\n",
              "      <td>0</td>\n",
              "    </tr>\n",
              "    <tr>\n",
              "      <th>history_price</th>\n",
              "      <td>0</td>\n",
              "    </tr>\n",
              "    <tr>\n",
              "      <th>history_percentageChange</th>\n",
              "      <td>122213</td>\n",
              "    </tr>\n",
              "    <tr>\n",
              "      <th>history_numericChange</th>\n",
              "      <td>122213</td>\n",
              "    </tr>\n",
              "  </tbody>\n",
              "</table>\n",
              "</div><br><label><b>dtype:</b> int64</label>"
            ]
          },
          "metadata": {},
          "execution_count": 17
        }
      ]
    },
    {
      "cell_type": "markdown",
      "source": [
        "tampilkan data per"
      ],
      "metadata": {
        "id": "C5zrPMNtux0l"
      }
    },
    {
      "cell_type": "markdown",
      "source": [
        "#CLEANING & PREPARING DATASET"
      ],
      "metadata": {
        "id": "MPAjNz85n6LT"
      }
    },
    {
      "cell_type": "code",
      "source": [
        "# Pilih hanya kolom numerik\n",
        "numeric_df = df.select_dtypes(include=['number'])\n",
        "\n",
        "# Tambahkan target numerik sementara\n",
        "numeric_df['saleEstimate_confidenceLevel'] = df['saleEstimate_confidenceLevel'].map({'LOW': 0, 'MEDIUM': 1, 'HIGH': 2})\n",
        "\n",
        "# Hitung korelasi\n",
        "correlation = numeric_df.corr()['saleEstimate_confidenceLevel'].sort_values(ascending=False)\n",
        "print(correlation)"
      ],
      "metadata": {
        "colab": {
          "base_uri": "https://localhost:8080/"
        },
        "id": "t5ik8XIXXwLN",
        "outputId": "09c9d2ed-430e-4b00-f193-ac75b810d38c"
      },
      "execution_count": null,
      "outputs": [
        {
          "output_type": "stream",
          "name": "stdout",
          "text": [
            "saleEstimate_confidenceLevel                 1.000000\n",
            "bedrooms                                     0.123993\n",
            "longitude                                    0.123765\n",
            "livingRooms                                  0.077666\n",
            "saleEstimate_valueChange.numericChange       0.076538\n",
            "bathrooms                                    0.003392\n",
            "floorAreaSqM                                -0.019193\n",
            "latitude                                    -0.037376\n",
            "history_percentageChange                    -0.038032\n",
            "saleEstimate_valueChange.percentageChange   -0.078411\n",
            "history_numericChange                       -0.092844\n",
            "saleEstimate_lowerPrice                     -0.129494\n",
            "history_price                               -0.173502\n",
            "saleEstimate_currentPrice                   -0.182567\n",
            "rentEstimate_lowerPrice                     -0.183515\n",
            "rentEstimate_currentPrice                   -0.183745\n",
            "rentEstimate_upperPrice                     -0.183878\n",
            "saleEstimate_upperPrice                     -0.223079\n",
            "Name: saleEstimate_confidenceLevel, dtype: float64\n"
          ]
        }
      ]
    },
    {
      "cell_type": "code",
      "source": [
        "df = pd.DataFrame(df)"
      ],
      "metadata": {
        "id": "wBKG_SNqSpMV"
      },
      "execution_count": 18,
      "outputs": []
    },
    {
      "cell_type": "code",
      "source": [
        "df['bedrooms'].fillna(df['bedrooms'].mode().iloc[0], inplace=True)\n",
        "df['saleEstimate_upperPrice'].fillna(df['saleEstimate_upperPrice'].mean(), inplace=True)\n",
        "df['history_price'].fillna(df['history_price'].mean(), inplace=True)\n",
        "df['history_price'].fillna(df['history_price'].mean(), inplace=True)\n",
        "df['longitude'].fillna(df['longitude'].mode().iloc[0], inplace=True)\n",
        "df_cleaned = df.dropna()\n",
        "\n",
        "# Save the cleaned dataframe to a CSV file\n",
        "output_file_path = '/content/sample_data/cleaned_data.csv'\n",
        "df_cleaned.to_csv(output_file_path, index=False)\n",
        "\n",
        "print(f\"Data cleaned successfully saved to '{output_file_path}'!\")\n"
      ],
      "metadata": {
        "id": "pccNSNRvXCQU",
        "colab": {
          "base_uri": "https://localhost:8080/"
        },
        "outputId": "bccbeb35-ef51-43f6-eb18-7d7e5581374a"
      },
      "execution_count": 19,
      "outputs": [
        {
          "output_type": "stream",
          "name": "stderr",
          "text": [
            "<ipython-input-19-c371e0308b0a>:1: FutureWarning: A value is trying to be set on a copy of a DataFrame or Series through chained assignment using an inplace method.\n",
            "The behavior will change in pandas 3.0. This inplace method will never work because the intermediate object on which we are setting values always behaves as a copy.\n",
            "\n",
            "For example, when doing 'df[col].method(value, inplace=True)', try using 'df.method({col: value}, inplace=True)' or df[col] = df[col].method(value) instead, to perform the operation inplace on the original object.\n",
            "\n",
            "\n",
            "  df['bedrooms'].fillna(df['bedrooms'].mode().iloc[0], inplace=True)\n",
            "<ipython-input-19-c371e0308b0a>:2: FutureWarning: A value is trying to be set on a copy of a DataFrame or Series through chained assignment using an inplace method.\n",
            "The behavior will change in pandas 3.0. This inplace method will never work because the intermediate object on which we are setting values always behaves as a copy.\n",
            "\n",
            "For example, when doing 'df[col].method(value, inplace=True)', try using 'df.method({col: value}, inplace=True)' or df[col] = df[col].method(value) instead, to perform the operation inplace on the original object.\n",
            "\n",
            "\n",
            "  df['saleEstimate_upperPrice'].fillna(df['saleEstimate_upperPrice'].mean(), inplace=True)\n",
            "<ipython-input-19-c371e0308b0a>:3: FutureWarning: A value is trying to be set on a copy of a DataFrame or Series through chained assignment using an inplace method.\n",
            "The behavior will change in pandas 3.0. This inplace method will never work because the intermediate object on which we are setting values always behaves as a copy.\n",
            "\n",
            "For example, when doing 'df[col].method(value, inplace=True)', try using 'df.method({col: value}, inplace=True)' or df[col] = df[col].method(value) instead, to perform the operation inplace on the original object.\n",
            "\n",
            "\n",
            "  df['history_price'].fillna(df['history_price'].mean(), inplace=True)\n",
            "<ipython-input-19-c371e0308b0a>:4: FutureWarning: A value is trying to be set on a copy of a DataFrame or Series through chained assignment using an inplace method.\n",
            "The behavior will change in pandas 3.0. This inplace method will never work because the intermediate object on which we are setting values always behaves as a copy.\n",
            "\n",
            "For example, when doing 'df[col].method(value, inplace=True)', try using 'df.method({col: value}, inplace=True)' or df[col] = df[col].method(value) instead, to perform the operation inplace on the original object.\n",
            "\n",
            "\n",
            "  df['history_price'].fillna(df['history_price'].mean(), inplace=True)\n",
            "<ipython-input-19-c371e0308b0a>:5: FutureWarning: A value is trying to be set on a copy of a DataFrame or Series through chained assignment using an inplace method.\n",
            "The behavior will change in pandas 3.0. This inplace method will never work because the intermediate object on which we are setting values always behaves as a copy.\n",
            "\n",
            "For example, when doing 'df[col].method(value, inplace=True)', try using 'df.method({col: value}, inplace=True)' or df[col] = df[col].method(value) instead, to perform the operation inplace on the original object.\n",
            "\n",
            "\n",
            "  df['longitude'].fillna(df['longitude'].mode().iloc[0], inplace=True)\n"
          ]
        },
        {
          "output_type": "stream",
          "name": "stdout",
          "text": [
            "Data cleaned successfully saved to '/content/sample_data/cleaned_data.csv'!\n"
          ]
        }
      ]
    },
    {
      "cell_type": "code",
      "source": [
        "df_cleaned = pd.read_csv('/content/sample_data/cleaned_data.csv')\n",
        "\n",
        "num_rows = len(df_cleaned)\n",
        "print(f\"Jumlah baris dataset setelah penghapusan baris dengan nilai null: {num_rows}\")"
      ],
      "metadata": {
        "id": "x1VzpGvOZPVd",
        "colab": {
          "base_uri": "https://localhost:8080/"
        },
        "outputId": "883f6435-37ea-41d9-9c32-9c71dd86f16d"
      },
      "execution_count": null,
      "outputs": [
        {
          "output_type": "stream",
          "name": "stdout",
          "text": [
            "Jumlah baris dataset setelah penghapusan baris dengan nilai null: 124083\n"
          ]
        }
      ]
    },
    {
      "cell_type": "code",
      "source": [
        "df_cleaned.isnull().sum()"
      ],
      "metadata": {
        "colab": {
          "base_uri": "https://localhost:8080/",
          "height": 962
        },
        "id": "zb3EOn-UafId",
        "outputId": "e58b4a96-0065-43ed-cc3f-cbf424035c41"
      },
      "execution_count": null,
      "outputs": [
        {
          "output_type": "execute_result",
          "data": {
            "text/plain": [
              "fullAddress                                  0\n",
              "postcode                                     0\n",
              "country                                      0\n",
              "outcode                                      0\n",
              "latitude                                     0\n",
              "longitude                                    0\n",
              "bathrooms                                    0\n",
              "bedrooms                                     0\n",
              "floorAreaSqM                                 0\n",
              "livingRooms                                  0\n",
              "tenure                                       0\n",
              "propertyType                                 0\n",
              "currentEnergyRating                          0\n",
              "rentEstimate_lowerPrice                      0\n",
              "rentEstimate_currentPrice                    0\n",
              "rentEstimate_upperPrice                      0\n",
              "saleEstimate_lowerPrice                      0\n",
              "saleEstimate_currentPrice                    0\n",
              "saleEstimate_upperPrice                      0\n",
              "saleEstimate_confidenceLevel                 0\n",
              "saleEstimate_ingestedAt                      0\n",
              "saleEstimate_valueChange.numericChange       0\n",
              "saleEstimate_valueChange.percentageChange    0\n",
              "saleEstimate_valueChange.saleDate            0\n",
              "history_date                                 0\n",
              "history_price                                0\n",
              "history_percentageChange                     0\n",
              "history_numericChange                        0\n",
              "dtype: int64"
            ],
            "text/html": [
              "<div>\n",
              "<style scoped>\n",
              "    .dataframe tbody tr th:only-of-type {\n",
              "        vertical-align: middle;\n",
              "    }\n",
              "\n",
              "    .dataframe tbody tr th {\n",
              "        vertical-align: top;\n",
              "    }\n",
              "\n",
              "    .dataframe thead th {\n",
              "        text-align: right;\n",
              "    }\n",
              "</style>\n",
              "<table border=\"1\" class=\"dataframe\">\n",
              "  <thead>\n",
              "    <tr style=\"text-align: right;\">\n",
              "      <th></th>\n",
              "      <th>0</th>\n",
              "    </tr>\n",
              "  </thead>\n",
              "  <tbody>\n",
              "    <tr>\n",
              "      <th>fullAddress</th>\n",
              "      <td>0</td>\n",
              "    </tr>\n",
              "    <tr>\n",
              "      <th>postcode</th>\n",
              "      <td>0</td>\n",
              "    </tr>\n",
              "    <tr>\n",
              "      <th>country</th>\n",
              "      <td>0</td>\n",
              "    </tr>\n",
              "    <tr>\n",
              "      <th>outcode</th>\n",
              "      <td>0</td>\n",
              "    </tr>\n",
              "    <tr>\n",
              "      <th>latitude</th>\n",
              "      <td>0</td>\n",
              "    </tr>\n",
              "    <tr>\n",
              "      <th>longitude</th>\n",
              "      <td>0</td>\n",
              "    </tr>\n",
              "    <tr>\n",
              "      <th>bathrooms</th>\n",
              "      <td>0</td>\n",
              "    </tr>\n",
              "    <tr>\n",
              "      <th>bedrooms</th>\n",
              "      <td>0</td>\n",
              "    </tr>\n",
              "    <tr>\n",
              "      <th>floorAreaSqM</th>\n",
              "      <td>0</td>\n",
              "    </tr>\n",
              "    <tr>\n",
              "      <th>livingRooms</th>\n",
              "      <td>0</td>\n",
              "    </tr>\n",
              "    <tr>\n",
              "      <th>tenure</th>\n",
              "      <td>0</td>\n",
              "    </tr>\n",
              "    <tr>\n",
              "      <th>propertyType</th>\n",
              "      <td>0</td>\n",
              "    </tr>\n",
              "    <tr>\n",
              "      <th>currentEnergyRating</th>\n",
              "      <td>0</td>\n",
              "    </tr>\n",
              "    <tr>\n",
              "      <th>rentEstimate_lowerPrice</th>\n",
              "      <td>0</td>\n",
              "    </tr>\n",
              "    <tr>\n",
              "      <th>rentEstimate_currentPrice</th>\n",
              "      <td>0</td>\n",
              "    </tr>\n",
              "    <tr>\n",
              "      <th>rentEstimate_upperPrice</th>\n",
              "      <td>0</td>\n",
              "    </tr>\n",
              "    <tr>\n",
              "      <th>saleEstimate_lowerPrice</th>\n",
              "      <td>0</td>\n",
              "    </tr>\n",
              "    <tr>\n",
              "      <th>saleEstimate_currentPrice</th>\n",
              "      <td>0</td>\n",
              "    </tr>\n",
              "    <tr>\n",
              "      <th>saleEstimate_upperPrice</th>\n",
              "      <td>0</td>\n",
              "    </tr>\n",
              "    <tr>\n",
              "      <th>saleEstimate_confidenceLevel</th>\n",
              "      <td>0</td>\n",
              "    </tr>\n",
              "    <tr>\n",
              "      <th>saleEstimate_ingestedAt</th>\n",
              "      <td>0</td>\n",
              "    </tr>\n",
              "    <tr>\n",
              "      <th>saleEstimate_valueChange.numericChange</th>\n",
              "      <td>0</td>\n",
              "    </tr>\n",
              "    <tr>\n",
              "      <th>saleEstimate_valueChange.percentageChange</th>\n",
              "      <td>0</td>\n",
              "    </tr>\n",
              "    <tr>\n",
              "      <th>saleEstimate_valueChange.saleDate</th>\n",
              "      <td>0</td>\n",
              "    </tr>\n",
              "    <tr>\n",
              "      <th>history_date</th>\n",
              "      <td>0</td>\n",
              "    </tr>\n",
              "    <tr>\n",
              "      <th>history_price</th>\n",
              "      <td>0</td>\n",
              "    </tr>\n",
              "    <tr>\n",
              "      <th>history_percentageChange</th>\n",
              "      <td>0</td>\n",
              "    </tr>\n",
              "    <tr>\n",
              "      <th>history_numericChange</th>\n",
              "      <td>0</td>\n",
              "    </tr>\n",
              "  </tbody>\n",
              "</table>\n",
              "</div><br><label><b>dtype:</b> int64</label>"
            ]
          },
          "metadata": {},
          "execution_count": 8
        }
      ]
    },
    {
      "cell_type": "markdown",
      "source": [],
      "metadata": {
        "id": "6SIDP6FNbjM_"
      }
    },
    {
      "cell_type": "markdown",
      "source": [
        "#Visualization"
      ],
      "metadata": {
        "id": "jHDWqZRNbkQz"
      }
    },
    {
      "cell_type": "code",
      "source": [
        "import matplotlib.pyplot as plt\n",
        "\n",
        "\n",
        "confidence_counts = df_cleaned['saleEstimate_confidenceLevel'].value_counts()\n",
        "\n",
        "plt.bar(confidence_counts.index, confidence_counts.values, color=['red', 'orange', 'green'])\n",
        "plt.title(\"Distribusi Confidence Level\")\n",
        "plt.xlabel(\"Confidence Level\")\n",
        "plt.ylabel(\"Jumlah Properti\")\n",
        "plt.show()"
      ],
      "metadata": {
        "colab": {
          "base_uri": "https://localhost:8080/",
          "height": 472
        },
        "id": "8QaAC-WrnI4G",
        "outputId": "81decac8-4a67-4385-9de0-3ca5fdadf1b1"
      },
      "execution_count": null,
      "outputs": [
        {
          "output_type": "display_data",
          "data": {
            "text/plain": [
              "<Figure size 640x480 with 1 Axes>"
            ],
            "image/png": "[encoded data removed]"
          },
          "metadata": {}
        }
      ]
    },
    {
      "cell_type": "markdown",
      "source": [
        "#MACHINE LEARNING KLASIFIKASI"
      ],
      "metadata": {
        "id": "2YegHyKuf-Ru"
      }
    },
    {
      "cell_type": "markdown",
      "source": [],
      "metadata": {
        "id": "F4jZStwQeHxm"
      }
    },
    {
      "cell_type": "markdown",
      "source": [
        "Dengan Oversampling"
      ],
      "metadata": {
        "id": "O49S5kHKeEty"
      }
    },
    {
      "cell_type": "code",
      "source": [
        "import pandas as pd\n",
        "from sklearn.model_selection import RandomizedSearchCV, cross_val_score, StratifiedKFold, train_test_split\n",
        "from sklearn.ensemble import RandomForestClassifier\n",
        "from sklearn.metrics import classification_report, accuracy_score, confusion_matrix\n",
        "import numpy as np\n",
        "from imblearn.over_sampling import SMOTE\n",
        "\n",
        "# Step 1: Define Features and Target\n",
        "features = ['saleEstimate_upperPrice', 'history_price', 'bedrooms', 'longitude']\n",
        "target = 'saleEstimate_confidenceLevel'\n",
        "\n",
        "# Encode target (LOW=0, MEDIUM=1, HIGH=2)\n",
        "df_cleaned['saleEstimate_confidenceLevel'] = df_cleaned['saleEstimate_confidenceLevel'].map({'LOW': 0, 'MEDIUM': 1, 'HIGH': 2})\n",
        "\n",
        "X = df_cleaned[features]\n",
        "y = df_cleaned[target]\n",
        "\n",
        "# Step 2: Apply SMOTE for Oversampling\n",
        "smote = SMOTE(random_state=42)\n",
        "X_resampled, y_resampled = smote.fit_resample(X, y)\n",
        "\n",
        "# Check the class distribution after oversampling\n",
        "from collections import Counter\n",
        "print(\"Original class distribution:\", Counter(y))\n",
        "print(\"Resampled class distribution:\", Counter(y_resampled))\n",
        "\n",
        "# Step 3: Split Resampled Data into Train and Test\n",
        "X_train, X_test, y_train, y_test = train_test_split(X_resampled, y_resampled, test_size=0.2, random_state=42)\n",
        "\n",
        "# Step 4: Define Reduced Hyperparameter Space\n",
        "param_dist = {\n",
        "    'n_estimators': [100, 150, 200],       # More values for number of estimators\n",
        "    'max_depth': [None, 10, 20],          # Testing deeper trees\n",
        "    'min_samples_split': [2, 5, 10],      # Adjust splitting thresholds\n",
        "    'min_samples_leaf': [1, 2, 5],        # Adjust minimum leaf size\n",
        "    'max_features': ['sqrt', 'log2']      # Multiple feature selection strategies\n",
        "}\n",
        "\n",
        "# Hyperparameter Tuning dengan RandomizedSearchCV\n",
        "model = RandomForestClassifier(random_state=42)\n",
        "random_search = RandomizedSearchCV(\n",
        "    estimator=model,\n",
        "    param_distributions=param_dist,\n",
        "    n_iter=15,\n",
        "    cv=3,\n",
        "    scoring='accuracy',\n",
        "    n_jobs=-1,\n",
        "    verbose=2,\n",
        "    random_state=42\n",
        ")\n",
        "random_search.fit(X_train, y_train)\n",
        "\n",
        "# Display Best Parameters and Accuracy\n",
        "print(\"Best Hyperparameters:\", random_search.best_params_)\n",
        "print(\"Best Cross-Validation Accuracy (3-Fold):\", random_search.best_score_)\n",
        "\n",
        "# Step 6: Evaluate Model on Test Set\n",
        "best_model = random_search.best_estimator_\n",
        "y_pred = best_model.predict(X_test)\n",
        "\n",
        "# Classification Report and Accuracy\n",
        "print(\"\\n--- Evaluation Metrics ---\")\n",
        "print(\"Classification Report:\")\n",
        "print(classification_report(y_test, y_pred, target_names=['LOW', 'MEDIUM', 'HIGH']))\n",
        "print(f\"Test Set Accuracy: {accuracy_score(y_test, y_pred):.4f}\")\n",
        "\n",
        "# Confusion Matrix\n",
        "conf_matrix = confusion_matrix(y_test, y_pred)\n",
        "print(\"\\nConfusion Matrix:\")\n",
        "print(conf_matrix)\n",
        "\n",
        "\n",
        "print(f\"\\nBest Cross-Validation Accuracy (3-Fold): {random_search.best_score_:.4f}\")\n",
        "\n"
      ],
      "metadata": {
        "id": "NDO--QgRIpAL",
        "colab": {
          "base_uri": "https://localhost:8080/"
        },
        "outputId": "5e5e19cb-d4a4-4fa4-9218-15a5776b696b"
      },
      "execution_count": null,
      "outputs": [
        {
          "metadata": {
            "tags": null
          },
          "name": "stdout",
          "output_type": "stream",
          "text": [
            "Original class distribution: Counter({2: 100765, 1: 18702, 0: 4616})\n",
            "Resampled class distribution: Counter({2: 100765, 1: 100765, 0: 100765})\n",
            "Fitting 3 folds for each of 15 candidates, totalling 45 fits\n"
          ]
        },
        {
          "metadata": {
            "tags": null
          },
          "name": "stderr",
          "output_type": "stream",
          "text": [
            "/usr/local/lib/python3.10/dist-packages/numpy/ma/core.py:2820: RuntimeWarning: invalid value encountered in cast\n",
            "  _data = np.array(data, dtype=dtype, copy=copy,\n"
          ]
        },
        {
          "output_type": "stream",
          "name": "stdout",
          "text": [
            "Best Hyperparameters: {'n_estimators': 200, 'min_samples_split': 2, 'min_samples_leaf': 1, 'max_features': 'log2', 'max_depth': None}\n",
            "Best Cross-Validation Accuracy (3-Fold): 0.8382912386906828\n",
            "\n",
            "--- Evaluation Metrics ---\n",
            "Classification Report:\n",
            "              precision    recall  f1-score   support\n",
            "\n",
            "         LOW       0.90      0.92      0.91     20197\n",
            "      MEDIUM       0.85      0.79      0.82     19990\n",
            "        HIGH       0.85      0.89      0.87     20272\n",
            "\n",
            "    accuracy                           0.87     60459\n",
            "   macro avg       0.87      0.87      0.87     60459\n",
            "weighted avg       0.87      0.87      0.87     60459\n",
            "\n",
            "Test Set Accuracy: 0.8678\n",
            "\n",
            "Confusion Matrix:\n",
            "[[18648  1053   496]\n",
            " [ 1446 15857  2687]\n",
            " [  553  1759 17960]]\n",
            "\n",
            "Best Cross-Validation Accuracy (3-Fold): 0.8383\n"
          ]
        }
      ]
    },
    {
      "cell_type": "code",
      "source": [
        "import matplotlib.pyplot as plt\n",
        "import seaborn as sns\n",
        "\n",
        "# Define the confusion matrix\n",
        "labels = ['LOW', 'MEDIUM', 'HIGH']  # Class labels\n",
        "\n",
        "# Create a heatmap\n",
        "plt.figure(figsize=(8, 6))\n",
        "sns.heatmap(conf_matrix, annot=True, fmt='d', cmap='Blues', xticklabels=labels, yticklabels=labels)\n",
        "\n",
        "# Add labels, title, and axis ticks\n",
        "plt.title('Confusion Matrix')\n",
        "plt.xlabel('Predicted Labels')\n",
        "plt.ylabel('True Labels')\n",
        "\n",
        "# Show the plot\n",
        "plt.tight_layout()\n",
        "plt.show()\n"
      ],
      "metadata": {
        "id": "eMWHhb4SeL5A",
        "outputId": "804f7b2f-8382-45e9-9ff1-14ed5d009c8d",
        "colab": {
          "base_uri": "https://localhost:8080/",
          "height": 607
        }
      },
      "execution_count": null,
      "outputs": [
        {
          "output_type": "display_data",
          "data": {
            "text/plain": [
              "<Figure size 800x600 with 2 Axes>"
            ],
            "image/png": "[encoded data removed]"
          },
          "metadata": {}
        }
      ]
    },
    {
      "cell_type": "code",
      "source": [
        "import matplotlib.pyplot as plt\n",
        "import numpy as np\n",
        "\n",
        "# Ambil feature importance dari model terbaik\n",
        "feature_importances = best_model.feature_importances_\n",
        "\n",
        "# Urutkan berdasarkan kepentingan\n",
        "indices = np.argsort(feature_importances)[::-1]\n",
        "sorted_features = [features[i] for i in indices]\n",
        "\n",
        "# Plot\n",
        "plt.figure(figsize=(10, 6))\n",
        "plt.title(\"Feature Importances\")\n",
        "plt.bar(range(len(features)), feature_importances[indices], align=\"center\")\n",
        "plt.xticks(range(len(features)), sorted_features, rotation=45)\n",
        "plt.tight_layout()\n",
        "plt.show()\n"
      ],
      "metadata": {
        "colab": {
          "base_uri": "https://localhost:8080/",
          "height": 607
        },
        "id": "v8zGpMEZaqia",
        "outputId": "c91f080d-a96d-4169-f913-fe72f31bf34a"
      },
      "execution_count": null,
      "outputs": [
        {
          "output_type": "display_data",
          "data": {
            "text/plain": [
              "<Figure size 1000x600 with 1 Axes>"
            ],
            "image/png": "[encoded data removed]"
          },
          "metadata": {}
        }
      ]
    }
  ]
}